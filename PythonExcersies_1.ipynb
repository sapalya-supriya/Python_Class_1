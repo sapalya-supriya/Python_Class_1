{
 "cells": [
  {
   "cell_type": "code",
   "execution_count": null,
   "id": "b5bb273d-919c-4e17-8609-f21a25d3cee5",
   "metadata": {},
   "outputs": [],
   "source": [
    "# write a program to add two  integers 10 , 20"
   ]
  },
  {
   "cell_type": "code",
   "execution_count": 6,
   "id": "0480c7f1-c696-4ebd-a8a9-4acc8db45d10",
   "metadata": {},
   "outputs": [
    {
     "name": "stdout",
     "output_type": "stream",
     "text": [
      "30\n"
     ]
    }
   ],
   "source": [
    "a = 10\n",
    "b = 20\n",
    "c = a+b\n",
    "print(c)"
   ]
  },
  {
   "cell_type": "code",
   "execution_count": null,
   "id": "2a3e67e5-30cf-425b-8b75-9b57de324c21",
   "metadata": {},
   "outputs": [],
   "source": [
    "# Write a program to find the type of a, b ,c where a=2, b=2.8,c=\"John\""
   ]
  },
  {
   "cell_type": "code",
   "execution_count": 4,
   "id": "4f90664a-bb18-44da-bc36-34c45a975ecd",
   "metadata": {},
   "outputs": [
    {
     "name": "stdout",
     "output_type": "stream",
     "text": [
      "<class 'int'>\n",
      "<class 'float'>\n",
      "<class 'str'>\n"
     ]
    }
   ],
   "source": [
    "a=2\n",
    "b=2.8\n",
    "c=\"John\"\n",
    "print(type(a))\n",
    "print(type(b))\n",
    "print(type(c))"
   ]
  },
  {
   "cell_type": "code",
   "execution_count": 5,
   "id": "e814af3b-8acb-4098-875f-dd219eb1ef91",
   "metadata": {},
   "outputs": [],
   "source": [
    "# Write a program to swap the two numbers , where a=2 ,b=4 the program should print a= 4 ,b=2"
   ]
  },
  {
   "cell_type": "code",
   "execution_count": 7,
   "id": "bdbf2de7-2fad-4b81-9528-4772d375ae31",
   "metadata": {},
   "outputs": [
    {
     "name": "stdout",
     "output_type": "stream",
     "text": [
      "a is 4\n",
      "b is 2\n"
     ]
    }
   ],
   "source": [
    "a=2 \n",
    "b=4\n",
    "a,b = b,a \n",
    "print('a is',a)\n",
    "print('b is',b)"
   ]
  },
  {
   "cell_type": "code",
   "execution_count": 8,
   "id": "853d11cf-8af4-49af-891a-91dfccc39ffc",
   "metadata": {},
   "outputs": [],
   "source": [
    "# Write a program to swap the two numbers , using 3 variables"
   ]
  },
  {
   "cell_type": "code",
   "execution_count": 9,
   "id": "c240f5c9-d729-4e47-96cf-c3d2c88fa705",
   "metadata": {},
   "outputs": [
    {
     "name": "stdout",
     "output_type": "stream",
     "text": [
      "a is 4\n",
      "b is 2\n"
     ]
    }
   ],
   "source": [
    "a=2 \n",
    "b=4\n",
    "c = a\n",
    "a = b\n",
    "b = c\n",
    "print('a is',a)\n",
    "print('b is',b)\n"
   ]
  },
  {
   "cell_type": "code",
   "execution_count": 10,
   "id": "2938a0f8-fd29-47ae-a2fa-28262945e85f",
   "metadata": {},
   "outputs": [],
   "source": [
    "# Write a program to print the numerator and denominator , quotient and remainder"
   ]
  },
  {
   "cell_type": "code",
   "execution_count": 12,
   "id": "8fc023bc-d9cd-4a94-9f9a-79d521ba63b4",
   "metadata": {},
   "outputs": [
    {
     "name": "stdout",
     "output_type": "stream",
     "text": [
      "Numerator: 10\n",
      "Denominator: 5\n",
      "Quotient: 2\n",
      "Remainder: 0\n"
     ]
    }
   ],
   "source": [
    "numerator = 10\n",
    "denominator = 5\n",
    "\n",
    "\n",
    "if denominator == 0:\n",
    "    print(\"Error: Denominator cannot be zero.\")\n",
    "else:\n",
    "    quotient = numerator // denominator\n",
    "    remainder = numerator % denominator\n",
    "\n",
    "    print(\"Numerator:\", numerator)\n",
    "    print(\"Denominator:\", denominator)\n",
    "    print(\"Quotient:\", quotient)\n",
    "    print(\"Remainder:\", remainder)"
   ]
  },
  {
   "cell_type": "code",
   "execution_count": null,
   "id": "be22aa88-fcda-407d-a939-0555f225e8ed",
   "metadata": {},
   "outputs": [],
   "source": [
    "p = 10\n",
    "n = 20\n",
    "r = 30\n",
    "s = p*n*r\n",
    "print(s)"
   ]
  },
  {
   "cell_type": "code",
   "execution_count": 2,
   "id": "ab7d4dc5-1296-4c1e-b722-dea2d382aaec",
   "metadata": {},
   "outputs": [],
   "source": [
    "# Write a program to calculate simple interst , si =p*n*r/100"
   ]
  },
  {
   "cell_type": "code",
   "execution_count": 5,
   "id": "cf8af718-d3ba-4472-ac5e-654e27d040b7",
   "metadata": {},
   "outputs": [
    {
     "name": "stdin",
     "output_type": "stream",
     "text": [
      "enter value 10\n",
      "enter value 20\n",
      "enter value 30\n"
     ]
    },
    {
     "name": "stdout",
     "output_type": "stream",
     "text": [
      "simple interest is 60.0\n"
     ]
    }
   ],
   "source": [
    "p = float(input(\"enter value\"))\n",
    "n = float(input(\"enter value\"))\n",
    "r = float(input(\"enter value\"))\n",
    "si = (p*n*r)/100\n",
    "print('simple interest is',si)"
   ]
  },
  {
   "cell_type": "code",
   "execution_count": 6,
   "id": "462bbd5c-daab-4484-af4c-710cede57a1d",
   "metadata": {},
   "outputs": [],
   "source": [
    "# Write a program to calculate the area and circumference of a circle ,area=3.14*radius*radius , circumference=2*3.14*r"
   ]
  },
  {
   "cell_type": "code",
   "execution_count": 7,
   "id": "24b3ce4e-6c78-413e-a6e0-cbbd6dabb88d",
   "metadata": {},
   "outputs": [
    {
     "name": "stdout",
     "output_type": "stream",
     "text": [
      "area is 113.03999999999999\n",
      "circumference is 37.68\n"
     ]
    }
   ],
   "source": [
    "r = 6\n",
    "area = 3.14*r*r\n",
    "circumference = 2*3.14*r\n",
    "print(f'area is {area}')\n",
    "print(f'circumference is {circumference}')"
   ]
  },
  {
   "cell_type": "code",
   "execution_count": 8,
   "id": "f4c108c9-42a8-4853-ac18-ea7c9412f3d9",
   "metadata": {},
   "outputs": [],
   "source": [
    "# Write a program to convert Celcius to Fariehiet , fariienhiet=1.8*celcius+32"
   ]
  },
  {
   "cell_type": "code",
   "execution_count": 10,
   "id": "09a8cfd3-851b-4bc0-bd47-c26bfe8b816a",
   "metadata": {},
   "outputs": [
    {
     "name": "stdin",
     "output_type": "stream",
     "text": [
      "enter value 10\n"
     ]
    },
    {
     "name": "stdout",
     "output_type": "stream",
     "text": [
      "fariienhiet is 50.0\n"
     ]
    }
   ],
   "source": [
    "celcius = float(input(\"enter value\"))\n",
    "fariienhiet=1.8*celcius+32\n",
    "print(f'fariienhiet is {fariienhiet}')"
   ]
  },
  {
   "cell_type": "code",
   "execution_count": 11,
   "id": "37a93ce5-b0fc-43e5-b47c-e7e96b21eac4",
   "metadata": {},
   "outputs": [],
   "source": [
    "# Write a program to find whether given number is odd or even"
   ]
  },
  {
   "cell_type": "code",
   "execution_count": 13,
   "id": "376f89e1-6562-433b-809a-f9d94455e21e",
   "metadata": {},
   "outputs": [
    {
     "name": "stdin",
     "output_type": "stream",
     "text": [
      "enter value 15\n"
     ]
    },
    {
     "name": "stdout",
     "output_type": "stream",
     "text": [
      "a is odd\n"
     ]
    }
   ],
   "source": [
    "a = eval(input(\"enter value\"))\n",
    "if a%2 == 0:\n",
    "    print(\"a is even\")\n",
    "else:\n",
    "    print(\"a is odd\")"
   ]
  },
  {
   "cell_type": "code",
   "execution_count": 1,
   "id": "0e4d5b04-f4f3-40c7-b7f8-db7cb7fee314",
   "metadata": {},
   "outputs": [],
   "source": [
    "# Write a program to check whether the person can vote or not"
   ]
  },
  {
   "cell_type": "code",
   "execution_count": 4,
   "id": "0816e17e-36bc-41fe-a847-7c6c96654ae4",
   "metadata": {},
   "outputs": [
    {
     "name": "stdin",
     "output_type": "stream",
     "text": [
      "enter age 11\n"
     ]
    },
    {
     "name": "stdout",
     "output_type": "stream",
     "text": [
      "person cannot vote\n"
     ]
    }
   ],
   "source": [
    "age = eval(input(\"enter age\"))\n",
    "if age >= 18:\n",
    "    print(\"the person can vote\")\n",
    "else:\n",
    "    print(\"person cannot vote\")\n",
    "    "
   ]
  },
  {
   "cell_type": "code",
   "execution_count": 5,
   "id": "8723feaf-c362-4bb8-8b68-52a584fef9c8",
   "metadata": {},
   "outputs": [],
   "source": [
    "# Write a program to find whether the given year is leap year or not ?"
   ]
  },
  {
   "cell_type": "code",
   "execution_count": 6,
   "id": "6fcd4230-e03f-42ff-b757-40c077eb6c39",
   "metadata": {},
   "outputs": [
    {
     "name": "stdin",
     "output_type": "stream",
     "text": [
      "Enter a year:  1995\n"
     ]
    },
    {
     "name": "stdout",
     "output_type": "stream",
     "text": [
      "1995 is NOT a Leap Year\n"
     ]
    }
   ],
   "source": [
    "year = int(input(\"Enter a year: \"))\n",
    "\n",
    "if (year % 400 == 0):\n",
    "    print(year, \"is a Leap Year\")\n",
    "elif (year % 100 == 0):\n",
    "    print(year, \"is NOT a Leap Year\")\n",
    "elif (year % 4 == 0):\n",
    "    print(year, \"is a Leap Year\")\n",
    "else:\n",
    "    print(year, \"is NOT a Leap Year\")"
   ]
  },
  {
   "cell_type": "code",
   "execution_count": 7,
   "id": "47448f00-2dbc-41b5-a9e7-c1394be12c07",
   "metadata": {},
   "outputs": [],
   "source": [
    "# Write a program to find the bigeest of three numbers"
   ]
  },
  {
   "cell_type": "code",
   "execution_count": 8,
   "id": "9687bb96-48ce-4594-9bac-c7196ed57234",
   "metadata": {},
   "outputs": [
    {
     "name": "stdout",
     "output_type": "stream",
     "text": [
      "c is greater\n"
     ]
    }
   ],
   "source": [
    "a = 10\n",
    "b = 20\n",
    "c = 30\n",
    "if a >= b and a >= c:\n",
    "    print(\"a is greater\")\n",
    "elif b >= a and b >= c:\n",
    "    print(\"b is greater\")\n",
    "else:\n",
    "    print(\"c is greater\")\n",
    "\n",
    "              "
   ]
  },
  {
   "cell_type": "code",
   "execution_count": null,
   "id": "bcbe9607-20fd-4bb2-a9b7-bcaef8fa1526",
   "metadata": {},
   "outputs": [],
   "source": []
  }
 ],
 "metadata": {
  "kernelspec": {
   "display_name": "Python 3 (ipykernel)",
   "language": "python",
   "name": "python3"
  },
  "language_info": {
   "codemirror_mode": {
    "name": "ipython",
    "version": 3
   },
   "file_extension": ".py",
   "mimetype": "text/x-python",
   "name": "python",
   "nbconvert_exporter": "python",
   "pygments_lexer": "ipython3",
   "version": "3.13.5"
  }
 },
 "nbformat": 4,
 "nbformat_minor": 5
}
