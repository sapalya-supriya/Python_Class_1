{
 "cells": [
  {
   "cell_type": "raw",
   "metadata": {},
   "source": [
    "Read Five marks tamil,english,maths,science and social and if all marks are greater than 35 , print pass else print fail"
   ]
  },
  {
   "cell_type": "code",
   "execution_count": 2,
   "metadata": {},
   "outputs": [
    {
     "name": "stdin",
     "output_type": "stream",
     "text": [
      "Enter the marks of tamil:  40\n",
      "Enter the marks of englsih:  50\n",
      "Enter the marks of maths:  87\n",
      "Enter the marks of science 94\n",
      "Enter the marks of social:  12\n"
     ]
    },
    {
     "name": "stdout",
     "output_type": "stream",
     "text": [
      "Fail\n"
     ]
    }
   ],
   "source": [
    "Tamil=int(input(\"Enter the marks of tamil: \"))\n",
    "English=int(input(\"Enter the marks of englsih: \"))\n",
    "Maths=int(input(\"Enter the marks of maths: \"))\n",
    "Science=int(input(\"Enter the marks of science\"))\n",
    "social=int(input(\"Enter the marks of social: \"))\n",
    "if Tamil>35:\n",
    "    if English>35:\n",
    "        if Maths>35:\n",
    "            if Science>35:\n",
    "                if social>35:\n",
    "                    print(\"Pass\")\n",
    "                else:\n",
    "                    print(\"Fail\")\n",
    "            else:\n",
    "                print(\"Fail\")\n",
    "        else:\n",
    "            print(\"Fail\")\n",
    "    else:\n",
    "        print(\"Fail\")\n",
    "else:\n",
    "    print(\"Fail\")"
   ]
  },
  {
   "cell_type": "code",
   "execution_count": null,
   "metadata": {},
   "outputs": [],
   "source": []
  }
 ],
 "metadata": {
  "kernelspec": {
   "display_name": "Python 3 (ipykernel)",
   "language": "python",
   "name": "python3"
  },
  "language_info": {
   "codemirror_mode": {
    "name": "ipython",
    "version": 3
   },
   "file_extension": ".py",
   "mimetype": "text/x-python",
   "name": "python",
   "nbconvert_exporter": "python",
   "pygments_lexer": "ipython3",
   "version": "3.13.5"
  }
 },
 "nbformat": 4,
 "nbformat_minor": 4
}
